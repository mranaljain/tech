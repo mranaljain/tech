{
 "cells": [
  {
   "cell_type": "markdown",
   "metadata": {},
   "source": [
    "## Build a model using Keras"
   ]
  },
  {
   "cell_type": "code",
   "execution_count": null,
   "metadata": {},
   "outputs": [],
   "source": [
    "import pandas as pd\n",
    "import numpy as np\n",
    "import matplotlib.pyplot as plt\n",
    "import requests\n"
   ]
  },
  {
   "cell_type": "code",
   "execution_count": null,
   "metadata": {},
   "outputs": [],
   "source": [
    "### Download data from google drive. You need not mess with this code.\n",
    "\n",
    "import requests\n",
    "\n",
    "def download_file_from_google_drive(id, destination):\n",
    "    URL = \"https://docs.google.com/uc?export=download\"\n",
    "\n",
    "    session = requests.Session()\n",
    "\n",
    "    response = session.get(URL, params = { 'id' : id }, stream = True)\n",
    "    token = get_confirm_token(response)\n",
    "\n",
    "    if token:\n",
    "        params = { 'id' : id, 'confirm' : token }\n",
    "        response = session.get(URL, params = params, stream = True)\n",
    "\n",
    "    save_response_content(response, destination)    \n",
    "\n",
    "def get_confirm_token(response):\n",
    "    for key, value in response.cookies.items():\n",
    "        if key.startswith('download_warning'):\n",
    "            return value\n",
    "\n",
    "    return None\n",
    "\n",
    "def save_response_content(response, destination):\n",
    "    CHUNK_SIZE = 32768\n",
    "\n",
    "    with open(destination, \"wb\") as f:\n",
    "        for chunk in response.iter_content(CHUNK_SIZE):\n",
    "            if chunk: # filter out keep-alive new chunks\n",
    "                f.write(chunk)\n",
    "                \n",
    "if __name__ == \"__main__\":\n",
    "    file_id = '1DHF4b0sBB_KLQ4oxNEMp0sGrViu0gpeG'\n",
    "    destination = 'data.csv'\n",
    "    download_file_from_google_drive(file_id, destination)"
   ]
  },
  {
   "cell_type": "code",
   "execution_count": null,
   "metadata": {},
   "outputs": [],
   "source": [
    "import pandas as pd\n",
    "import numpy as np\n",
    "import matplotlib.pyplot as plt\n",
    "import requests\n",
    "\n",
    "\n",
    "# Importing and cleaning data using pandas library\n",
    "data = pd.read_csv('data.csv')\n",
    "\n",
    "## Last column is output features. Rest are inputs\n",
    "X = data.iloc[:, 1:-1].values\n",
    "\n",
    "# 2nd column is output labels\n",
    "y = data.iloc[:, -1].values"
   ]
  },
  {
   "cell_type": "markdown",
   "metadata": {},
   "source": [
    "Convert labels to intermediate representation where each label is replaced by a number from 0 to Ny-1\n",
    "(Ny is number of classes)"
   ]
  },
  {
   "cell_type": "code",
   "execution_count": null,
   "metadata": {
    "deletable": false,
    "nbgrader": {
     "checksum": "47b584514cca56df2715904eb2d2d42e",
     "grade": false,
     "grade_id": "cell-a674018e3af0b38c",
     "locked": false,
     "schema_version": 1,
     "solution": true
    }
   },
   "outputs": [],
   "source": [
    "def conv_labels(y_raw):\n",
    "    \"\"\"\n",
    "    Inputs:\n",
    "        y_raw: numpy array of labels\n",
    "    Outputs:\n",
    "        y: numpy array of ints, each label is replaced by an int from 0 to Ny-1\n",
    "        Ny: number of classes\n",
    "    \"\"\"\n",
    "    # YOUR CODE HERE"
   ]
  },
  {
   "cell_type": "code",
   "execution_count": null,
   "metadata": {
    "deletable": false,
    "editable": false,
    "nbgrader": {
     "checksum": "2fca35c58e7416a6154dd7559092ff40",
     "grade": true,
     "grade_id": "cell-c59e63d3a5ab1587",
     "locked": true,
     "points": 3,
     "schema_version": 1,
     "solution": false
    }
   },
   "outputs": [],
   "source": []
  },
  {
   "cell_type": "code",
   "execution_count": null,
   "metadata": {
    "deletable": false,
    "nbgrader": {
     "checksum": "6bca81b174c287ab28b9d7f9afdfc395",
     "grade": false,
     "grade_id": "cell-18c5d990cc8c0b88",
     "locked": false,
     "schema_version": 1,
     "solution": true
    }
   },
   "outputs": [],
   "source": [
    "### One-hot encode Y_v\n",
    "def oneHot(y, Ny):\n",
    "    '''\n",
    "    Input:\n",
    "        y: an int in {0, 1}\n",
    "        Ny: Number of classes, e.g., 2 here.\n",
    "    Output:\n",
    "        Y: a vector of Ny (=2) tuples\n",
    "    '''\n",
    "    # YOUR CODE HERE"
   ]
  },
  {
   "cell_type": "code",
   "execution_count": null,
   "metadata": {
    "deletable": false,
    "editable": false,
    "nbgrader": {
     "checksum": "722dcba0cda823441cc620cd2b738e3a",
     "grade": true,
     "grade_id": "cell-63afef22a1950397",
     "locked": true,
     "points": 2,
     "schema_version": 1,
     "solution": false
    }
   },
   "outputs": [],
   "source": [
    "\"\"\"Test for one-hot\"\"\"\n",
    "assert np.all(oneHot(0,3)==np.array([1,0,0]))\n"
   ]
  },
  {
   "cell_type": "markdown",
   "metadata": {},
   "source": [
    "\n",
    "#### Create Y_o which is one-hot encoding of Y using above functions\n"
   ]
  },
  {
   "cell_type": "code",
   "execution_count": null,
   "metadata": {
    "deletable": false,
    "nbgrader": {
     "checksum": "550f43647367c7029e3e098c00e06288",
     "grade": false,
     "grade_id": "cell-35e2ebfbcce2b63f",
     "locked": false,
     "schema_version": 1,
     "solution": true
    }
   },
   "outputs": [],
   "source": [
    "def create_Y_o(y):\n",
    "    \"\"\"\n",
    "    Inputs:\n",
    "        y: numpy array of class labels\n",
    "    Outputs:\n",
    "        Y_o: numpy array of shape(samples, Ny) with one-hot encodings of y\n",
    "        Ny: number of unique classes\n",
    "    \"\"\"\n",
    "    # YOUR CODE HERE\n",
    "    return Y_o, Ny\n",
    "\n",
    "Y_o, Ny = create_Y_o(y)\n"
   ]
  },
  {
   "cell_type": "code",
   "execution_count": null,
   "metadata": {
    "deletable": false,
    "editable": false,
    "nbgrader": {
     "checksum": "c71ead95499bc30315380603abc1b8cb",
     "grade": true,
     "grade_id": "cell-5c2e4a519a112844",
     "locked": true,
     "points": 2,
     "schema_version": 1,
     "solution": false
    }
   },
   "outputs": [],
   "source": []
  },
  {
   "cell_type": "code",
   "execution_count": null,
   "metadata": {
    "deletable": false,
    "nbgrader": {
     "checksum": "ead210a423d821d6ed53e6886e89e2e7",
     "grade": false,
     "grade_id": "cell-87b2cacee71e7ed4",
     "locked": false,
     "schema_version": 1,
     "solution": true
    }
   },
   "outputs": [],
   "source": [
    "### Split data into train and test. Keep 10% of samples for testing\n",
    "## Divide the data into these variables - X_train, X_test, y_train, y_test\n",
    "# YOUR CODE HERE"
   ]
  },
  {
   "cell_type": "code",
   "execution_count": null,
   "metadata": {
    "deletable": false,
    "editable": false,
    "nbgrader": {
     "checksum": "da6d91ff3485321ed947efa66ab6800a",
     "grade": true,
     "grade_id": "cell-cfa28681f99002d1",
     "locked": true,
     "points": 2,
     "schema_version": 1,
     "solution": false
    }
   },
   "outputs": [],
   "source": [
    "\"\"\"test for splitting\"\"\"\n",
    "assert(X_train.shape[0] == 13608)"
   ]
  },
  {
   "cell_type": "code",
   "execution_count": null,
   "metadata": {
    "deletable": false,
    "nbgrader": {
     "checksum": "e74c75ebdea1ce69fd8b0cd9a7de4de3",
     "grade": false,
     "grade_id": "cell-2bc42ab83e597a8e",
     "locked": false,
     "schema_version": 1,
     "solution": true
    }
   },
   "outputs": [],
   "source": [
    "## Normalize the Data\n",
    "def findMeanStddev(X):\n",
    "    '''\n",
    "    Input: \n",
    "        X: a matrix of size (no. of samples, dimension of each sample)\n",
    "    Output:\n",
    "        mean: mean of samples in X (same size as X)\n",
    "        stddev: element-wise std dev of sample in X (same size as X)\n",
    "    '''\n",
    "    # YOUR CODE HERE"
   ]
  },
  {
   "cell_type": "code",
   "execution_count": null,
   "metadata": {
    "deletable": false,
    "editable": false,
    "nbgrader": {
     "checksum": "1208d7f42bab2cc1e3e8008535544f8a",
     "grade": true,
     "grade_id": "cell-085a9443367fdb41",
     "locked": true,
     "points": 3,
     "schema_version": 1,
     "solution": false
    }
   },
   "outputs": [],
   "source": []
  },
  {
   "cell_type": "code",
   "execution_count": null,
   "metadata": {
    "deletable": false,
    "nbgrader": {
     "checksum": "4c48cb33447e64e41b2531a0c24a4b40",
     "grade": false,
     "grade_id": "cell-70997efec08284dd",
     "locked": false,
     "schema_version": 1,
     "solution": true
    }
   },
   "outputs": [],
   "source": [
    "def normalizeX(X, mean, stddev):\n",
    "    '''\n",
    "    Input:\n",
    "        X: a matrix of size (no. of samples, dimension of each sample)\n",
    "        mean: mean of samples in X (same size as X)\n",
    "        stddev: element-wise std dev of sample in X (same size as X) \n",
    "    Output:\n",
    "        Xn: X modified to have 0 mean and 1 std dev\n",
    "    '''\n",
    "    # YOUR CODE HERE\n",
    "\n",
    "mean_train, stddev_train = findMeanStddev(X_train)\n",
    "X_train = normalizeX(X_train, mean_train, stddev_train)\n",
    "X_test = normalizeX(X_test, mean_train, stddev_train)"
   ]
  },
  {
   "cell_type": "code",
   "execution_count": null,
   "metadata": {
    "deletable": false,
    "editable": false,
    "nbgrader": {
     "checksum": "b63cd0c66c22c7a806f2b3cb0b159820",
     "grade": true,
     "grade_id": "cell-46adfce309e1b614",
     "locked": true,
     "points": 2,
     "schema_version": 1,
     "solution": false
    }
   },
   "outputs": [],
   "source": []
  },
  {
   "cell_type": "markdown",
   "metadata": {},
   "source": [
    "#### Create model. \n",
    "- Choose the number of hidden layers, neurons, activations, loss function, learning rate and optimizers on your own.\n",
    "- Report accuracy metric\n",
    "- Use no more than 100 epochs\n",
    "- Use validation_split = 0.1"
   ]
  },
  {
   "cell_type": "code",
   "execution_count": null,
   "metadata": {
    "deletable": false,
    "nbgrader": {
     "checksum": "a355fae182bbece90a3d2cf6c5b58420",
     "grade": false,
     "grade_id": "cell-71762f0bb2dd5ac6",
     "locked": false,
     "schema_version": 1,
     "solution": true
    }
   },
   "outputs": [],
   "source": [
    "import keras\n",
    "def create_model():\n",
    "    \"\"\"\n",
    "    Inputs:\n",
    "        None\n",
    "    Outputs:\n",
    "        model: keras model afteer compiling\n",
    "    \"\"\"\n",
    "    # YOUR CODE HERE\n",
    "    return model"
   ]
  },
  {
   "cell_type": "code",
   "execution_count": null,
   "metadata": {},
   "outputs": [],
   "source": [
    "model = create_model()\n",
    "history = model.fit(X_train, y_train, epochs=100, batch_size = 100, validation_split = 0.1)"
   ]
  },
  {
   "cell_type": "code",
   "execution_count": null,
   "metadata": {},
   "outputs": [],
   "source": [
    "from matplotlib import pyplot as plt\n",
    "plt.plot(history.history['val_acc'])"
   ]
  },
  {
   "cell_type": "markdown",
   "metadata": {},
   "source": [
    "#### Evalutaion\n"
   ]
  },
  {
   "cell_type": "code",
   "execution_count": null,
   "metadata": {
    "deletable": false,
    "editable": false,
    "nbgrader": {
     "checksum": "47a4ed078680769952c23511d42be381",
     "grade": true,
     "grade_id": "cell-2b2c6db73900f0cd",
     "locked": true,
     "points": 8,
     "schema_version": 1,
     "solution": false
    }
   },
   "outputs": [],
   "source": [
    "\"\"\"Test for model\"\"\"\n"
   ]
  },
  {
   "cell_type": "code",
   "execution_count": null,
   "metadata": {
    "deletable": false,
    "editable": false,
    "nbgrader": {
     "checksum": "6d71419c2c979d65045d788e27789c46",
     "grade": true,
     "grade_id": "cell-1a1b44abeb716585",
     "locked": true,
     "points": 1,
     "schema_version": 1,
     "solution": false
    }
   },
   "outputs": [],
   "source": [
    "\"\"\"Test for model\"\"\"\n"
   ]
  },
  {
   "cell_type": "code",
   "execution_count": null,
   "metadata": {
    "deletable": false,
    "editable": false,
    "nbgrader": {
     "checksum": "9a3b28670f2aeeb6fe20050be208b9e7",
     "grade": true,
     "grade_id": "cell-8f0f28af43148408",
     "locked": true,
     "points": 2,
     "schema_version": 1,
     "solution": false
    }
   },
   "outputs": [],
   "source": [
    "\"\"\"Test for model\"\"\"\n"
   ]
  },
  {
   "cell_type": "markdown",
   "metadata": {},
   "source": [
    "#### Confusion Matrix"
   ]
  },
  {
   "cell_type": "code",
   "execution_count": null,
   "metadata": {
    "deletable": false,
    "nbgrader": {
     "checksum": "51b86e9efba08c3b74a82fa0e6e53319",
     "grade": false,
     "grade_id": "cell-6ab6b4c2b62d34e5",
     "locked": false,
     "schema_version": 1,
     "solution": true
    }
   },
   "outputs": [],
   "source": [
    "def create_cm(Y_test, Y_pred):\n",
    "    \"\"\"\n",
    "    Inputs:\n",
    "        Y_test: numpy array with true labels\n",
    "        Y_pred: numpy array with predicted labels\n",
    "    Outputs:\n",
    "        CM: numpy array (ndim=2) containing confusion matrix\n",
    "    \"\"\"\n",
    "    # YOUR CODE HERE\n",
    "    return CM"
   ]
  },
  {
   "cell_type": "code",
   "execution_count": null,
   "metadata": {
    "deletable": false,
    "editable": false,
    "nbgrader": {
     "checksum": "af2a9d116ade37bcc6a1c242c7621705",
     "grade": true,
     "grade_id": "cell-689817aaae734a4e",
     "locked": true,
     "points": 2,
     "schema_version": 1,
     "solution": false
    }
   },
   "outputs": [],
   "source": [
    "\"\"\"Test for confusion matrix\"\"\""
   ]
  },
  {
   "cell_type": "code",
   "execution_count": null,
   "metadata": {
    "deletable": false,
    "nbgrader": {
     "checksum": "80466c203fba20e20763c14d90916c3f",
     "grade": false,
     "grade_id": "cell-eae6c93e269a7b33",
     "locked": false,
     "schema_version": 1,
     "solution": true
    }
   },
   "outputs": [],
   "source": [
    "def precision(cm, cls):\n",
    "    \"\"\"\n",
    "    Inputs:\n",
    "        cm: numpy array of shape (Ny, Ny) containing confusion matrix\n",
    "        cls: class for which precision has to be computed\n",
    "    Outputs:\n",
    "        prec: precision for class cls \n",
    "    \"\"\"\n",
    "    # YOUR CODE HERE"
   ]
  },
  {
   "cell_type": "code",
   "execution_count": null,
   "metadata": {
    "deletable": false,
    "editable": false,
    "nbgrader": {
     "checksum": "8beb744ce69100b86bdf1d2c81e95e98",
     "grade": true,
     "grade_id": "cell-abb3832f763effa7",
     "locked": true,
     "points": 3,
     "schema_version": 1,
     "solution": false
    }
   },
   "outputs": [],
   "source": []
  },
  {
   "cell_type": "code",
   "execution_count": null,
   "metadata": {},
   "outputs": [],
   "source": []
  }
 ],
 "metadata": {
  "colab": {
   "name": "BasicModule_GrandTest.ipynb",
   "provenance": [],
   "version": "0.3.2"
  },
  "kernelspec": {
   "display_name": "Python 3",
   "language": "python",
   "name": "python3"
  },
  "language_info": {
   "codemirror_mode": {
    "name": "ipython",
    "version": 3
   },
   "file_extension": ".py",
   "mimetype": "text/x-python",
   "name": "python",
   "nbconvert_exporter": "python",
   "pygments_lexer": "ipython3",
   "version": "3.6.8"
  }
 },
 "nbformat": 4,
 "nbformat_minor": 1
}
