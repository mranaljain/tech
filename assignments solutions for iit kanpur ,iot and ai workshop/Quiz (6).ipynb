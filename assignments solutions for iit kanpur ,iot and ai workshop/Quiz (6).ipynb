{
 "cells": [
  {
   "cell_type": "markdown",
   "metadata": {
    "colab_type": "text",
    "id": "MvErumT0n0_-",
    "slideshow": {
     "slide_type": "slide"
    }
   },
   "source": [
    "# Classification of handwritten digits using MLN"
   ]
  },
  {
   "cell_type": "markdown",
   "metadata": {
    "colab_type": "text",
    "id": "zh0uH8bDn1AE",
    "slideshow": {
     "slide_type": "slide"
    }
   },
   "source": [
    "# MNIST Dataset\n",
    "\n",
    "<img src=\"https://upload.wikimedia.org/wikipedia/commons/2/27/MnistExamples.png\" title=\"MNIST dataset\" align=\"center\"/>\n",
    "\n"
   ]
  },
  {
   "cell_type": "markdown",
   "metadata": {
    "colab_type": "text",
    "id": "1K6Im4RYn1AK",
    "slideshow": {
     "slide_type": "slide"
    }
   },
   "source": [
    "# Problem\n",
    "Classify handwritten digits from 0 - 9. <br>\n",
    "Each image is 28x28 pixels\n",
    "\n",
    "<img src=\"https://corochann.com/wp-content/uploads/2017/02/mnist_plot.png\" title=\"\" align=\"center\"/>\n"
   ]
  },
  {
   "cell_type": "markdown",
   "metadata": {
    "colab_type": "text",
    "id": "EVex4puqn1AO",
    "slideshow": {
     "slide_type": "slide"
    }
   },
   "source": [
    "# Understanding the data"
   ]
  },
  {
   "cell_type": "code",
   "execution_count": null,
   "metadata": {
    "colab": {},
    "colab_type": "code",
    "deletable": false,
    "id": "alqmfbOIn1AR",
    "nbgrader": {
     "checksum": "f1c9b1f58906b8bf2546a86766ba19a8",
     "grade": false,
     "grade_id": "cell-81641c87749d35fd",
     "locked": false,
     "schema_version": 1,
     "solution": true
    },
    "slideshow": {
     "slide_type": "fragment"
    }
   },
   "outputs": [],
   "source": [
    "# MNIST data is present in the keras library. You may load it from there\n",
    "from keras.datasets import mnist\n",
    "def load_data():\n",
    "    \"\"\"\n",
    "    Inputs:\n",
    "        None\n",
    "    Outputs:\n",
    "        train_samples, train_labels, test_samples, test_labels: numpy arrays\n",
    "    \n",
    "    Load the train/test of mnist data into these variables\n",
    "    \"\"\"\n",
    "    # YOUR CODE HERE\n",
    "    return train_samples, train_labels, test_samples, test_labels \n",
    "\n",
    "train_samples, train_labels, test_samples, test_labels = load_data()"
   ]
  },
  {
   "cell_type": "code",
   "execution_count": null,
   "metadata": {},
   "outputs": [],
   "source": [
    "\"\"\"Test cases\"\"\"\n",
    "assert train_samples.shape == (60000, 28, 28)\n",
    "assert test_labels.shape == (10000,)\n",
    "print('Test passed', '\\U0001F44D')\n"
   ]
  },
  {
   "cell_type": "markdown",
   "metadata": {
    "colab_type": "text",
    "id": "3CNRCPbrn1Ae",
    "slideshow": {
     "slide_type": "slide"
    }
   },
   "source": [
    "### Shape of Data\n"
   ]
  },
  {
   "cell_type": "code",
   "execution_count": null,
   "metadata": {
    "colab": {},
    "colab_type": "code",
    "id": "_pAn6o3Vn1Ag",
    "slideshow": {
     "slide_type": "fragment"
    }
   },
   "outputs": [],
   "source": [
    "print(train_samples.shape)\n",
    "print(train_labels.shape)\n",
    "print(test_samples.shape)\n",
    "print(test_labels.shape)"
   ]
  },
  {
   "cell_type": "markdown",
   "metadata": {
    "colab_type": "text",
    "id": "ubf7aJPIn1Ax",
    "slideshow": {
     "slide_type": "slide"
    }
   },
   "source": [
    "### Range of Values"
   ]
  },
  {
   "cell_type": "code",
   "execution_count": null,
   "metadata": {
    "colab": {},
    "colab_type": "code",
    "id": "-jiF1J8Jn1A0",
    "slideshow": {
     "slide_type": "fragment"
    }
   },
   "outputs": [],
   "source": [
    "import numpy as np\n",
    "np.amax(train_samples) # Max value"
   ]
  },
  {
   "cell_type": "code",
   "execution_count": null,
   "metadata": {
    "colab": {},
    "colab_type": "code",
    "id": "Mu18byDmn1A-",
    "slideshow": {
     "slide_type": "fragment"
    }
   },
   "outputs": [],
   "source": [
    "np.amin(train_samples) # Min Value"
   ]
  },
  {
   "cell_type": "code",
   "execution_count": null,
   "metadata": {
    "colab": {},
    "colab_type": "code",
    "id": "_OkrzUFQn1BI",
    "slideshow": {
     "slide_type": "slide"
    }
   },
   "outputs": [],
   "source": [
    "%matplotlib inline\n",
    "import matplotlib.pyplot as plt\n",
    "\n",
    "pixels = train_samples[0] # Shape (28, 28)\n",
    "plt.imshow(pixels, cmap='gray')\n",
    "plt.show()\n",
    "print('Label of image is', train_labels[0])"
   ]
  },
  {
   "cell_type": "markdown",
   "metadata": {
    "colab_type": "text",
    "id": "N6JiZgztn1BP",
    "slideshow": {
     "slide_type": "slide"
    }
   },
   "source": [
    "# Data Preparation"
   ]
  },
  {
   "cell_type": "markdown",
   "metadata": {
    "colab_type": "text",
    "id": "7hUHie4_n1BQ",
    "slideshow": {
     "slide_type": "fragment"
    }
   },
   "source": [
    "### Normalize inputs to (0, 1)"
   ]
  },
  {
   "cell_type": "code",
   "execution_count": null,
   "metadata": {
    "colab": {},
    "colab_type": "code",
    "deletable": false,
    "id": "iGKZASBBn1BS",
    "nbgrader": {
     "checksum": "517fb19d6f3ebbc315f78688e3cf580a",
     "grade": false,
     "grade_id": "cell-6d7ec54fdf30ec6a",
     "locked": false,
     "schema_version": 1,
     "solution": true
    },
    "slideshow": {
     "slide_type": "fragment"
    }
   },
   "outputs": [],
   "source": [
    "def convert_dtype(x):\n",
    "    \"\"\"\n",
    "    Inputs:\n",
    "        x: numpy array\n",
    "    Outputs:\n",
    "        x_float: numpy array, dtype of elements changed to 'float32'\n",
    "    \"\"\"\n",
    "    # YOUR CODE HERE\n",
    "    return x_float\n",
    "\n",
    "train_samples = convert_dtype(train_samples)\n",
    "test_samples = convert_dtype(test_samples)"
   ]
  },
  {
   "cell_type": "code",
   "execution_count": null,
   "metadata": {},
   "outputs": [],
   "source": [
    "\"\"\"Test cases\"\"\"\n",
    "assert str(train_samples.dtype) == 'float32'\n",
    "print('Test passed', '\\U0001F44D')\n"
   ]
  },
  {
   "cell_type": "code",
   "execution_count": null,
   "metadata": {
    "colab": {},
    "colab_type": "code",
    "deletable": false,
    "id": "gbaIejYPn1BX",
    "nbgrader": {
     "checksum": "460dfe1a17dd7cbfe4b2783f3f7d66dc",
     "grade": false,
     "grade_id": "cell-f942b7b27fdbdc51",
     "locked": false,
     "schema_version": 1,
     "solution": true
    },
    "slideshow": {
     "slide_type": "fragment"
    }
   },
   "outputs": [],
   "source": [
    "def normalize(x):\n",
    "    \"\"\"\n",
    "    Inputs:\n",
    "        x: numpy array\n",
    "    Outputs:\n",
    "        x_n: numpy array, elements normalized to be between (0, 1)\n",
    "    \"\"\"    \n",
    "    # YOUR CODE HERE\n",
    "    return x_n\n",
    "    \n",
    "train_samples = normalize(train_samples)\n",
    "test_samples = normalize(test_samples) \n"
   ]
  },
  {
   "cell_type": "code",
   "execution_count": null,
   "metadata": {},
   "outputs": [],
   "source": [
    "\"\"\"Test cases\"\"\"\n",
    "assert np.isclose(np.amax(train_samples), 1)\n",
    "print('Test passed', '\\U0001F44D')\n"
   ]
  },
  {
   "cell_type": "code",
   "execution_count": null,
   "metadata": {
    "deletable": false,
    "nbgrader": {
     "checksum": "95f321beea0331f5d325a1dd113645da",
     "grade": false,
     "grade_id": "cell-8a7f6b723861a02a",
     "locked": false,
     "schema_version": 1,
     "solution": true
    }
   },
   "outputs": [],
   "source": [
    "def reshape(x):\n",
    "    \"\"\"\n",
    "    We need to reshape our train_data to be of shape (samples, height, width, channels) pass to Conv2D layer of keras\n",
    "    Inputs:\n",
    "        x: numpy array of shape(samples, height, width)\n",
    "    Outputs:\n",
    "        x_r: numpy array of shape(samples, height, width, 1)\n",
    "    \"\"\"\n",
    "    # YOUR CODE HERE\n",
    "    return x_r\n",
    "\n",
    "train_samples = reshape(train_samples)\n",
    "test_samples = reshape(test_samples)"
   ]
  },
  {
   "cell_type": "code",
   "execution_count": null,
   "metadata": {},
   "outputs": [],
   "source": [
    "train_labels.shape"
   ]
  },
  {
   "cell_type": "markdown",
   "metadata": {
    "colab_type": "text",
    "id": "jzvfaeh9n1Bj",
    "slideshow": {
     "slide_type": "slide"
    }
   },
   "source": [
    "### Convert outputs to 1-hot vectors\n",
    "\\begin{equation*}\n",
    "Eg: 5 \\rightarrow [0, 0, 0, 0, 0, 1, 0, 0, 0, 0]\n",
    "\\end{equation*}"
   ]
  },
  {
   "cell_type": "code",
   "execution_count": null,
   "metadata": {
    "colab": {},
    "colab_type": "code",
    "deletable": false,
    "id": "kCxrh0-nn1Bl",
    "nbgrader": {
     "checksum": "64b5aebaeb79b72c5f8d6b5fc4158bd1",
     "grade": false,
     "grade_id": "cell-c11f23149e00b861",
     "locked": false,
     "schema_version": 1,
     "solution": true
    },
    "slideshow": {
     "slide_type": "fragment"
    }
   },
   "outputs": [],
   "source": [
    "def oneHot(y, Ny):\n",
    "    \"\"\"\n",
    "    Inputs:\n",
    "        y: numpy array if shape (samples, ) with class labels\n",
    "        Ny: number of classes\n",
    "    Outputs:\n",
    "        y_oh: numpy array of shape (samples, Ny) of one hot vectors\n",
    "    \"\"\"\n",
    "    # YOUR CODE HERE\n",
    "    return y_oh\n",
    "\n",
    "# example\n",
    "train_labels = oneHot(train_labels, 10)\n",
    "test_labels = oneHot(test_labels, 10)"
   ]
  },
  {
   "cell_type": "code",
   "execution_count": null,
   "metadata": {},
   "outputs": [],
   "source": [
    "\"\"\"Test cases\"\"\"\n",
    "assert train_labels.shape[1] == 10\n",
    "print('Test passed', '\\U0001F44D')\n"
   ]
  },
  {
   "cell_type": "markdown",
   "metadata": {},
   "source": [
    "## Create a convolutional neural network model\n",
    "You may design whatever cnn model you like. But following are hints to get started.<br>\n",
    "Make the following layers:\n",
    "1. cnn layer with kernel_size = (5, 5) and 32 kernels\n",
    "2. cnn layer with kernel_size = (3, 3) and 20 kernels\n",
    "3. Maxpooling layer of size (2, 2)\n",
    "4. Flatten layer\n",
    "5. Dense layer of appropriate size\n",
    "6. Output layer of appropriate size"
   ]
  },
  {
   "cell_type": "code",
   "execution_count": null,
   "metadata": {
    "colab": {},
    "colab_type": "code",
    "deletable": false,
    "id": "amqRJpZun1Bt",
    "nbgrader": {
     "checksum": "2c2396a31ef46bae9d5b0fa50a2db297",
     "grade": false,
     "grade_id": "cell-f2918a15da09ae15",
     "locked": false,
     "schema_version": 1,
     "solution": true
    },
    "slideshow": {
     "slide_type": "slide"
    }
   },
   "outputs": [],
   "source": [
    "def create_model():\n",
    "    \"\"\"\n",
    "    Inputs:\n",
    "        None\n",
    "    Outputs:\n",
    "        model: compiled keras model\n",
    "    \"\"\"\n",
    "    # YOUR CODE HERE\n",
    "    return model\n",
    "\n",
    "model = create_model()"
   ]
  },
  {
   "cell_type": "code",
   "execution_count": null,
   "metadata": {},
   "outputs": [],
   "source": [
    "model.summary()"
   ]
  },
  {
   "cell_type": "code",
   "execution_count": null,
   "metadata": {
    "colab": {},
    "colab_type": "code",
    "id": "u-2Sfsxtn1B7",
    "slideshow": {
     "slide_type": "slide"
    }
   },
   "outputs": [],
   "source": [
    "history = model.fit(train_samples, train_labels, validation_split = 0.1, epochs=2, batch_size=200)\n",
    "# Use 10% of samples for validation, validation_split is the relevant parameter\n"
   ]
  },
  {
   "cell_type": "code",
   "execution_count": null,
   "metadata": {
    "deletable": false,
    "nbgrader": {
     "checksum": "152e035c796daf8de8495ef4dd4b509b",
     "grade": false,
     "grade_id": "cell-2e082c9902d9c054",
     "locked": false,
     "schema_version": 1,
     "solution": true
    }
   },
   "outputs": [],
   "source": [
    "def predict(x):\n",
    "    \"\"\"\n",
    "    Inputs:\n",
    "        x: input samples\n",
    "        model: keras model\n",
    "    Outputs:\n",
    "        y: predicted labels\n",
    "    \"\"\"\n",
    "    # YOUR CODE HERE\n",
    "    return y"
   ]
  },
  {
   "cell_type": "code",
   "execution_count": null,
   "metadata": {
    "deletable": false,
    "nbgrader": {
     "checksum": "51bf0f6f01341d1e097cfcce995f7842",
     "grade": false,
     "grade_id": "cell-b55a1773f8fcdf85",
     "locked": false,
     "schema_version": 1,
     "solution": true
    }
   },
   "outputs": [],
   "source": [
    "def oneHot_tolabel(y):\n",
    "    \"\"\"\n",
    "    Inputs:\n",
    "        y: numpy array of shape (samples, Ny)\n",
    "    Outputs:\n",
    "        y_b: numpy array of shape (samples,) where one hot encoding is converted back to class labels\n",
    "    \"\"\"\n",
    "    # YOUR CODE HERE\n",
    "    return y_b\n",
    "    "
   ]
  },
  {
   "cell_type": "code",
   "execution_count": null,
   "metadata": {
    "colab": {},
    "colab_type": "code",
    "deletable": false,
    "id": "B12vN44Ln1CF",
    "nbgrader": {
     "checksum": "177572664de00d24d4f6271664cbc95f",
     "grade": false,
     "grade_id": "cell-7b7fec626903c453",
     "locked": false,
     "schema_version": 1,
     "solution": true
    },
    "slideshow": {
     "slide_type": "slide"
    }
   },
   "outputs": [],
   "source": [
    "def create_confusion_matrix(true_labels, predicted_labels):\n",
    "    \"\"\"\n",
    "    Inputs:\n",
    "        true_labels: numpy array of shape (samples, ) with true_labels\n",
    "        test_labels: numpy array of shape(samples, ) with test_labels\n",
    "    Outputs:\n",
    "        cm: numpy array of shape (Ny, Ny), confusion matrix. Ny -> number of unique classes in y\n",
    "    \"\"\"\n",
    "    # YOUR CODE HERE\n",
    "    return cm"
   ]
  },
  {
   "cell_type": "code",
   "execution_count": null,
   "metadata": {},
   "outputs": [],
   "source": [
    "predicted_labels_train = predict(train_samples)"
   ]
  },
  {
   "cell_type": "code",
   "execution_count": null,
   "metadata": {},
   "outputs": [],
   "source": [
    "cm = create_confusion_matrix(oneHot_tolabel(train_labels), oneHot_tolabel(predict(train_samples)))"
   ]
  },
  {
   "cell_type": "code",
   "execution_count": null,
   "metadata": {},
   "outputs": [],
   "source": [
    "print(cm)"
   ]
  },
  {
   "cell_type": "code",
   "execution_count": null,
   "metadata": {
    "colab": {},
    "colab_type": "code",
    "id": "sdXS58IwWOXP"
   },
   "outputs": [],
   "source": [
    "history.history.keys()\n",
    "import matplotlib.pyplot as plt\n",
    "plt.plot(range(len(history.history['val_acc'])), history.history['val_acc'])\n",
    "plt.show()"
   ]
  },
  {
   "cell_type": "code",
   "execution_count": null,
   "metadata": {
    "deletable": false,
    "nbgrader": {
     "checksum": "a9dfa82486edd7a314c8ac7fd47e389e",
     "grade": false,
     "grade_id": "cell-aba6e55dfdf66734",
     "locked": false,
     "schema_version": 1,
     "solution": true
    }
   },
   "outputs": [],
   "source": [
    "def accuracy(x_test, y_test, model):\n",
    "    \"\"\"\n",
    "    Inputs:\n",
    "        x_test: test samples\n",
    "        y_test : test labels\n",
    "        model: keras model\n",
    "    Ouputs:\n",
    "        acc: float, accuracy of test data on model\n",
    "    \"\"\"\n",
    "    # YOUR CODE HERE\n",
    "    return acc\n",
    "\n",
    "acc = accuracy(test_samples, test_labels, model)\n",
    "print('Test accuracy is, ', acc*100, '%')"
   ]
  },
  {
   "cell_type": "markdown",
   "metadata": {
    "colab": {},
    "colab_type": "code",
    "id": "DySmpDX7n1CY"
   },
   "source": [
    "### Advanced\n",
    "1. Tune the hyperparameters to better the performance\n",
    "2. Find the classes which are getting most confused from confusion matrix. Take out those samples. Plot them and see why they are getting confused."
   ]
  },
  {
   "cell_type": "code",
   "execution_count": null,
   "metadata": {},
   "outputs": [],
   "source": []
  }
 ],
 "metadata": {
  "accelerator": "GPU",
  "colab": {
   "collapsed_sections": [],
   "name": "mnist_mln_network.ipynb",
   "provenance": [],
   "version": "0.3.2"
  },
  "kernelspec": {
   "display_name": "Python 3",
   "language": "python",
   "name": "python3"
  },
  "language_info": {
   "codemirror_mode": {
    "name": "ipython",
    "version": 3
   },
   "file_extension": ".py",
   "mimetype": "text/x-python",
   "name": "python",
   "nbconvert_exporter": "python",
   "pygments_lexer": "ipython3",
   "version": "3.6.8"
  }
 },
 "nbformat": 4,
 "nbformat_minor": 1
}
